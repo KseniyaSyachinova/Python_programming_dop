{
  "nbformat": 4,
  "nbformat_minor": 0,
  "metadata": {
    "colab": {
      "provenance": []
    },
    "kernelspec": {
      "name": "python3",
      "display_name": "Python 3"
    },
    "language_info": {
      "name": "python"
    }
  },
  "cells": [
    {
      "cell_type": "markdown",
      "source": [
        "## Сячинова Ксения, НММбд-02-22\n"
      ],
      "metadata": {
        "id": "p1qOKkfRVX7z"
      }
    },
    {
      "cell_type": "markdown",
      "source": [
        "## Задача \"Trie-дерево\"\n",
        "Реализовать структуру данных \"Trie-дерево\" с набором операций из презентации."
      ],
      "metadata": {
        "id": "gEhb1BnJVY3Y"
      }
    },
    {
      "cell_type": "markdown",
      "source": [
        "Из презентации можем увидеть, что необходимо реализовать следующие операции:\n",
        "\n",
        "\n",
        "*   Поиск ключа\n",
        "*   Добавление ключа\n",
        "*   Удаление ключа\n",
        "  \n",
        "\n"
      ],
      "metadata": {
        "id": "j9nQY08zVhSi"
      }
    },
    {
      "cell_type": "code",
      "source": [
        "class TrieNode:\n",
        "    def __init__(self):\n",
        "        self.children = {}\n",
        "        self.is_end_of_word = False\n",
        "\n",
        "class Trie:\n",
        "    def __init__(self):\n",
        "        self.root = TrieNode()\n",
        "\n",
        "    def insert(self, word):\n",
        "        node = self.root\n",
        "        for char in word:\n",
        "            if char not in node.children:\n",
        "                node.children[char] = TrieNode()\n",
        "            node = node.children[char]\n",
        "        node.is_end_of_word = True\n",
        "\n",
        "    def search(self, word):\n",
        "        node = self.root\n",
        "        for char in word:\n",
        "            if char not in node.children:\n",
        "                return False\n",
        "            node = node.children[char]\n",
        "        return node.is_end_of_word\n",
        "\n",
        "    def delete(self, word):\n",
        "        def _delete_helper(node, word, depth):\n",
        "            if depth == len(word):\n",
        "                if not node.is_end_of_word:\n",
        "                    return False\n",
        "                node.is_end_of_word = False\n",
        "                return len(node.children) == 0\n",
        "\n",
        "            char = word[depth]\n",
        "            if char not in node.children:\n",
        "                return False\n",
        "\n",
        "            should_delete_current_node = _delete_helper(node.children[char], word, depth + 1)\n",
        "\n",
        "            if should_delete_current_node:\n",
        "                del node.children[char]\n",
        "                return len(node.children) == 0\n",
        "\n",
        "            return False\n",
        "\n",
        "        _delete_helper(self.root, word, 0)"
      ],
      "metadata": {
        "id": "2ep0tVynV_fA"
      },
      "execution_count": null,
      "outputs": []
    },
    {
      "cell_type": "markdown",
      "source": [
        "Пример использвания. Добавили ключ \"apple\", нашли его. Затем добавим другой ключ, он отображается. Удалим его и видим, что он пропал. Всё работает корректно. Весь принцип алгоритма приведён в презентации. Основывалась на него."
      ],
      "metadata": {
        "id": "yA6QFW__WAkn"
      }
    },
    {
      "cell_type": "code",
      "source": [
        "trie = Trie()\n",
        "trie.insert(\"apple\")\n",
        "print(trie.search(\"apple\"))\n",
        "print(trie.search(\"app\"))\n",
        "\n",
        "trie.insert(\"app\")\n",
        "print(trie.search(\"app\"))\n",
        "\n",
        "trie.delete(\"app\")\n",
        "print(trie.search(\"app\"))"
      ],
      "metadata": {
        "colab": {
          "base_uri": "https://localhost:8080/"
        },
        "id": "-8VbQPY7WET7",
        "outputId": "fef8b46b-528d-444f-c563-64546c83c38e"
      },
      "execution_count": null,
      "outputs": [
        {
          "output_type": "stream",
          "name": "stdout",
          "text": [
            "True\n",
            "False\n",
            "True\n",
            "False\n"
          ]
        }
      ]
    }
  ]
}