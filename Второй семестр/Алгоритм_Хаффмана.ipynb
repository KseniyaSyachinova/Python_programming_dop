{
  "nbformat": 4,
  "nbformat_minor": 0,
  "metadata": {
    "colab": {
      "provenance": []
    },
    "kernelspec": {
      "name": "python3",
      "display_name": "Python 3"
    },
    "language_info": {
      "name": "python"
    }
  },
  "cells": [
    {
      "cell_type": "markdown",
      "source": [
        "## Сячинова Ксения, НММбд-02-22\n",
        "\n"
      ],
      "metadata": {
        "id": "f2MaGRepNyYU"
      }
    },
    {
      "cell_type": "markdown",
      "source": [
        "Алгоритм Хаффмана — это алгоритм сжатия данных, который использует переменную длину кодирования для каждого символа на основе их частоты в сообщении. Символам с более высокой частотой присваиваются более короткие коды, что позволяет уменьшить общий объем передаваемых данных."
      ],
      "metadata": {
        "id": "08-aItZZNxvi"
      }
    },
    {
      "cell_type": "code",
      "source": [
        "import heapq\n",
        "from collections import defaultdict\n",
        "\n",
        "class Node:\n",
        "    def __init__(self, char, freq):\n",
        "        self.char = char\n",
        "        self.freq = freq\n",
        "        self.left = None\n",
        "        self.right = None\n",
        "\n",
        "    def __lt__(self, other):\n",
        "        return self.freq < other.freq\n",
        "\n",
        "def build_huffman_tree(data):\n",
        "    frequency = defaultdict(int)\n",
        "    for char in data:\n",
        "        frequency[char] += 1\n",
        "\n",
        "    priority_queue = [Node(char, freq) for char, freq in frequency.items()]\n",
        "    heapq.heapify(priority_queue)\n",
        "\n",
        "    while len(priority_queue) > 1:\n",
        "        left = heapq.heappop(priority_queue)\n",
        "        right = heapq.heappop(priority_queue)\n",
        "        merged = Node(None, left.freq + right.freq)\n",
        "        merged.left = left\n",
        "        merged.right = right\n",
        "        heapq.heappush(priority_queue, merged)\n",
        "\n",
        "    return priority_queue[0]\n",
        "\n",
        "def build_huffman_codes(root):\n",
        "    codes = {}\n",
        "\n",
        "    def traverse(node, code):\n",
        "        if node.char is not None:\n",
        "            codes[node.char] = code\n",
        "            return\n",
        "        traverse(node.left, code + '0')\n",
        "        traverse(node.right, code + '1')\n",
        "\n",
        "    traverse(root, '')\n",
        "    return codes\n",
        "\n",
        "def encode(data, codes):\n",
        "    encoded_data = ''\n",
        "    for char in data:\n",
        "        encoded_data += codes[char]\n",
        "    return encoded_data\n",
        "\n",
        "def decode(encoded_data, root):\n",
        "    decoded_data = ''\n",
        "    current = root\n",
        "    for bit in encoded_data:\n",
        "        if bit == '0':\n",
        "            current = current.left\n",
        "        else:\n",
        "            current = current.right\n",
        "        if current.char is not None:\n",
        "            decoded_data += current.char\n",
        "            current = root\n",
        "    return decoded_data"
      ],
      "metadata": {
        "id": "5Al4MoX5N2Z-"
      },
      "execution_count": 1,
      "outputs": []
    },
    {
      "cell_type": "markdown",
      "source": [
        "Рассмортим какой-нибудь пример и убедимся, что код работает корректно."
      ],
      "metadata": {
        "id": "g1PMr2O4N_LU"
      }
    },
    {
      "cell_type": "code",
      "source": [
        "data = \"abbbcccsdddasdzxcxzzxc\"\n",
        "root = build_huffman_tree(data)\n",
        "codes = build_huffman_codes(root)\n",
        "encoded_data = encode(data, codes)\n",
        "decoded_data = decode(encoded_data, root)\n",
        "\n",
        "print(\"Original data:\", data)\n",
        "print(\"Huffman Codes:\", codes)\n",
        "print(\"Encoded data:\", encoded_data)\n",
        "print(\"Decoded data:\", decoded_data)"
      ],
      "metadata": {
        "colab": {
          "base_uri": "https://localhost:8080/"
        },
        "id": "R5GL4gY5N8m3",
        "outputId": "c6cff95e-684a-4401-f16e-7ccb80fcf9fa"
      },
      "execution_count": null,
      "outputs": [
        {
          "output_type": "stream",
          "name": "stdout",
          "text": [
            "Original data: abbbcccsdddasdzxcxzzxc\n",
            "Huffman Codes: {'d': '00', 'c': '01', 'x': '100', 'z': '101', 'b': '110', 's': '1110', 'a': '1111'}\n",
            "Encoded data: 1111110110110010101111000000011111110001011000110010110110001\n",
            "Decoded data: abbbcccsdddasdzxcxzzxc\n"
          ]
        }
      ]
    },
    {
      "cell_type": "markdown",
      "source": [
        "Описание кода."
      ],
      "metadata": {
        "id": "jQGEIcgEOYLp"
      }
    },
    {
      "cell_type": "markdown",
      "source": [
        "Для начала реализуем класс \"Node\" - это класс, представляющий узел в дереве Хаффмана. Узел содержит символ (char), его частоту (freq) и ссылки на левого и правого потомков.\n",
        "\n",
        "Затем напишем функции, которые соответсвенно кодируют и декодируют сообщение.\n",
        "\n",
        "\n",
        "*  build_huffman_tree(data) - функция для построения дерева Хаффмана на основе\n",
        "входных данных. Она создает приоритетную очередь узлов, сортируя их по частоте, а затем объединяет узлы с наименьшей частотой, пока не останется один корневой узел.\n",
        "\n",
        "*  build_huffman_codes(root) - функция для создания таблицы кодов Хаффмана на основе построенного дерева. Она рекурсивно проходит по дереву, присваивая битовые коды символам.\n",
        "\n",
        "*  encode(data, codes) - функция для кодирования входных данных с использованием таблицы кодов Хаффмана. Данная функция заменяет каждый символ его соответствующим битовым кодом.\n",
        "\n",
        "*  decode(encoded_data, root) - функция для декодирования закодированных данных с использованием дерева Хаффмана, функция последовательно проходит по битам и восстанавливает исходные символы.\n",
        "\n",
        "Можно сделать вывод, что aлгоритм Хаффмана позволяет эффективно сжимать данные, используя переменную длину кодирования для каждого символа в зависимости от его частоты в сообщении."
      ],
      "metadata": {
        "id": "qlNJ3gRiOcGL"
      }
    }
  ]
}